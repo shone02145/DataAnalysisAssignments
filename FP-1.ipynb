{
 "cells": [
  {
   "cell_type": "markdown",
   "metadata": {},
   "source": [
    "\n",
    "\n",
    "# <span style=\"color:blue\">Relationship between CO2 Emissions and Economic Growth</span>\n",
    "\n",
    "\n",
    "### Overview:\n",
    "\n",
    "* **Name**:  <span style=\"color:blue\">Sho Iwato</span>\n",
    "* **Student number**:  <span style=\"color:blue\">0500370767</span>\n",
    "\n",
    "<br>"
   ]
  },
  {
   "cell_type": "markdown",
   "metadata": {},
   "source": [
    "### Purpose:\n",
    "\n",
    "* <span style=\"color:blue\">The purpose of this project is to analayze the relationship between CO2 emissions and economic growth in different countries.</span>\n",
    "* <span style=\"color:blue\">The key dependent veriable(DV) is the annual CO2 emissions per country(measured in metric tons).</span>\n",
    "* <span style=\"color:blue\">The key independent variable(IV) is the GDP per capita of each country (in USD).</span>\n",
    "* <span style=\"color:blue\">The dataset contains around 200 countries and 60 years of data (from 1960 to 2020).</span>\n",
    "* <span style=\"color:blue\">This project aims to visualize global trends, identify outliers, and investigate whether higher GDP correlates with higher emissions.</span>\n",
    "\n",
    "<br>"
   ]
  },
  {
   "cell_type": "markdown",
   "metadata": {},
   "source": [
    "### Dataset source:\n",
    "\n",
    "<span style=\"color:blue\">The dataset will be obtained from Our World in Data:https://ourworldindata.org/co2-and-greenhouse-gas-emissions</span>\n",
    "\n",
    "### References:\n",
    "<span style=\"color:blue\">Our World in Data. “CO₂ and Greenhouse Gas Emissions.” Available at: https://ourworldindata.org/co2-and-greenhouse-gas-emissions\n",
    "\n",
    "World Bank Open Data: https://data.worldbank.org/</span>\n",
    "\n",
    "<span style=\"color:blue\">{Do <b>NOT</b> use datasets from any Python package including `numpy`, `scipy`, `matplotlib`, `sklearn`, `pandas`, etc.}</span>\n",
    "\n",
    "<span style=\"color:blue\">{Do <b>NOT</b> use datasets from websites that require registration (paid or free). The dataset(s) must be downloadable from the internet for free, without any registration required.}</span>\n",
    "\n",
    "<br>\n",
    "<br>\n",
    "<br>\n",
    "<br>"
   ]
  }
 ],
 "metadata": {
  "kernelspec": {
   "display_name": "Python [conda env:base] *",
   "language": "python",
   "name": "conda-base-py"
  },
  "language_info": {
   "codemirror_mode": {
    "name": "ipython",
    "version": 3
   },
   "file_extension": ".py",
   "mimetype": "text/x-python",
   "name": "python",
   "nbconvert_exporter": "python",
   "pygments_lexer": "ipython3",
   "version": "3.13.5"
  }
 },
 "nbformat": 4,
 "nbformat_minor": 4
}
